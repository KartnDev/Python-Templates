{
 "cells": [
  {
   "cell_type": "code",
   "execution_count": 26,
   "metadata": {},
   "outputs": [],
   "source": [
    "def quicksort(array):\n",
    "    if len(array)<2:\n",
    "        return arr\n",
    "    else:\n",
    "        pivot = array[0]\n",
    "        less = [i for i in array[1:] if i <=pivot]\n",
    "        greater = [i for i in array[1:] if i > pivot]\n",
    "        print('LESS' + str(less) + '                             ' + 'GREATER' + str(greater))\n",
    "        return quicksort(less) + [pivot] + quicksort(greater)"
   ]
  },
  {
   "cell_type": "code",
   "execution_count": 28,
   "metadata": {},
   "outputs": [
    {
     "name": "stdout",
     "output_type": "stream",
     "text": [
      "LESS[3, 2, 4, 2, 4, 4, 2, 2]                             GREATER[5, 6, 6, 24, 234, 432, 65, 43]\n",
      "LESS[2, 2, 2, 2]                             GREATER[4, 4, 4]\n",
      "LESS[2, 2, 2]                             GREATER[]\n",
      "LESS[2, 2]                             GREATER[]\n",
      "LESS[2]                             GREATER[]\n",
      "LESS[4, 4]                             GREATER[]\n",
      "LESS[4]                             GREATER[]\n",
      "LESS[]                             GREATER[6, 6, 24, 234, 432, 65, 43]\n",
      "LESS[6]                             GREATER[24, 234, 432, 65, 43]\n",
      "LESS[]                             GREATER[234, 432, 65, 43]\n",
      "LESS[65, 43]                             GREATER[432]\n",
      "LESS[43]                             GREATER[]\n",
      "[2, 2, 2, 3, 4, 4, 4, 5, 6, 24, 65, 234]\n"
     ]
    }
   ],
   "source": [
    "print(quicksort([4, 5, 6, 3, 2,6 ,4, 2,4,4,24,2,234,2,432,65,43]))"
   ]
  },
  {
   "cell_type": "code",
   "execution_count": null,
   "metadata": {},
   "outputs": [],
   "source": []
  }
 ],
 "metadata": {
  "kernelspec": {
   "display_name": "Python 3",
   "language": "python",
   "name": "python3"
  },
  "language_info": {
   "codemirror_mode": {
    "name": "ipython",
    "version": 3
   },
   "file_extension": ".py",
   "mimetype": "text/x-python",
   "name": "python",
   "nbconvert_exporter": "python",
   "pygments_lexer": "ipython3",
   "version": "3.7.1"
  }
 },
 "nbformat": 4,
 "nbformat_minor": 2
}
